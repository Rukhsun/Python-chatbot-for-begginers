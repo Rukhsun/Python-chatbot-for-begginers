{
 "cells": [
  {
   "cell_type": "markdown",
   "metadata": {},
   "source": [
    "# Python chatbot for beginners"
   ]
  },
  {
   "cell_type": "code",
   "execution_count": 2,
   "metadata": {},
   "outputs": [],
   "source": [
    "import time\n",
    "import datetime\n",
    "date = datetime.date.today()\n",
    "today = date.today()\n",
    "now=time.ctime()\n",
    "quesNans={\n",
    "        \"hello\":\"hi\",\n",
    "        \"hey\":\"yes\",\n",
    "        \"how are you\":\"I am good\",\n",
    "        \"what about you\":\"me too\",\n",
    "        \"can you please send me the last class assignment\":\"sorry, i did not attend last class\",\n",
    "        \"can you please help me\":\"sure\",\n",
    "        \"have you watched the movie shershah\":\"yes\",\n",
    "        \"what is your name\":\"My name is Rukhsun\",\n",
    "        \"what is the time now\": now,\n",
    "        \"date\":today,\n",
    "        \"sorry for the inconvenience\":\n",
    "        \"okay, no problem\",\n",
    "        \"attendance will be taken tomorrow\":\"okay sir\",\n",
    "        \"you have done well in you last exam, keep it up\":\"Oh! Thank you, will try better\",\n",
    "}"
   ]
  },
  {
   "cell_type": "code",
   "execution_count": null,
   "metadata": {},
   "outputs": [
    {
     "name": "stdout",
     "output_type": "stream",
     "text": [
      "date\n",
      "2021-09-01\n",
      "what is the time now\n",
      "Wed Sep  1 18:06:08 2021\n",
      "hello\n",
      "hi\n",
      "what is your name\n",
      "My name is Rukhsun\n",
      "how are you\n",
      "I am good\n",
      "sorry for the inconvenience\n",
      "okay, no problem\n"
     ]
    }
   ],
   "source": [
    "while True:\n",
    "    qs=input()\n",
    "    if(qs==\"quit\"):\n",
    "        break\n",
    "        \n",
    "    else:\n",
    "        print(quesNans[qs])"
   ]
  },
  {
   "cell_type": "markdown",
   "metadata": {},
   "source": [
    "So, you can add more no of query on it. It's a basic message chatbot for begginers"
   ]
  },
  {
   "cell_type": "code",
   "execution_count": null,
   "metadata": {},
   "outputs": [],
   "source": []
  }
 ],
 "metadata": {
  "kernelspec": {
   "display_name": "Python 3",
   "language": "python",
   "name": "python3"
  },
  "language_info": {
   "codemirror_mode": {
    "name": "ipython",
    "version": 3
   },
   "file_extension": ".py",
   "mimetype": "text/x-python",
   "name": "python",
   "nbconvert_exporter": "python",
   "pygments_lexer": "ipython3",
   "version": "3.7.3"
  }
 },
 "nbformat": 4,
 "nbformat_minor": 2
}
